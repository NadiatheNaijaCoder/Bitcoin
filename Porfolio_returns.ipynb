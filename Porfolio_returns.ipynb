{
  "cells": [
    {
      "cell_type": "code",
      "execution_count": 1,
      "metadata": {
        "id": "2_eoRUjV3FKB"
      },
      "outputs": [],
      "source": [
        "import pandas as pd\n",
        "import numpy as np\n",
        "from pandas_datareader import data as wb\n",
        "import matplotlib.pyplot as plt"
      ]
    },
    {
      "cell_type": "code",
      "source": [],
      "metadata": {
        "id": "F3Mmjb1nA9H8"
      },
      "execution_count": 1,
      "outputs": []
    },
    {
      "cell_type": "code",
      "execution_count": 5,
      "metadata": {
        "id": "yPECDeZM3FKJ"
      },
      "outputs": [],
      "source": [
        "tickers=['PG','F','MSFT','GE']\n",
        "new_data = pd.DataFrame()\n",
        "for t in tickers :\n",
        "    new_data = pd.BooleanDtype"
      ]
    },
    {
      "cell_type": "code",
      "execution_count": 6,
      "metadata": {
        "id": "hQ4B95ZA3FKX",
        "outputId": "78919496-8eac-45e6-f830-49b34c0c815e",
        "colab": {
          "base_uri": "https://localhost:8080/",
          "height": 166
        }
      },
      "outputs": [
        {
          "output_type": "error",
          "ename": "AttributeError",
          "evalue": "ignored",
          "traceback": [
            "\u001b[0;31m---------------------------------------------------------------------------\u001b[0m",
            "\u001b[0;31mAttributeError\u001b[0m                            Traceback (most recent call last)",
            "\u001b[0;32m<ipython-input-6-2f67b12a4978>\u001b[0m in \u001b[0;36m<module>\u001b[0;34m\u001b[0m\n\u001b[0;32m----> 1\u001b[0;31m \u001b[0mnew_data\u001b[0m\u001b[0;34m.\u001b[0m\u001b[0minfo\u001b[0m\u001b[0;34m(\u001b[0m\u001b[0;34m)\u001b[0m\u001b[0;34m\u001b[0m\u001b[0;34m\u001b[0m\u001b[0m\n\u001b[0m",
            "\u001b[0;31mAttributeError\u001b[0m: type object 'BooleanDtype' has no attribute 'info'"
          ]
        }
      ],
      "source": [
        "new_data.info()"
      ]
    },
    {
      "cell_type": "code",
      "source": [
        "from google.colab import drive\n",
        "drive.mount('/content/drive')"
      ],
      "metadata": {
        "id": "p2xsuCQ-vafP"
      },
      "execution_count": null,
      "outputs": []
    },
    {
      "cell_type": "code",
      "execution_count": null,
      "metadata": {
        "id": "jxSKKxK_3FKb"
      },
      "outputs": [],
      "source": [
        "#Inverting the dataset - upside down\n",
        "new_data = new_data.iloc[::-1]"
      ]
    },
    {
      "cell_type": "code",
      "execution_count": null,
      "metadata": {
        "id": "joO7eN0n3FKd"
      },
      "outputs": [],
      "source": [
        "#Normalizing the data and plotting\n",
        "(new_data / new_data.iloc[0]*100).plot(figsize = (15,6));\n",
        "plt.show()"
      ]
    },
    {
      "cell_type": "code",
      "execution_count": null,
      "metadata": {
        "id": "HVRWkgeo3FKg"
      },
      "outputs": [],
      "source": [
        "#if not normalized\n",
        "new_data.plot(figsize = (15,6))\n",
        "plt.show()"
      ]
    },
    {
      "cell_type": "code",
      "execution_count": null,
      "metadata": {
        "id": "ag04E7H-3FKj"
      },
      "outputs": [],
      "source": [
        "returns = (new_data / new_data.shift(1)) - 1\n",
        "returns.head()"
      ]
    },
    {
      "cell_type": "code",
      "execution_count": null,
      "metadata": {
        "id": "cAnPc_8D3FKl"
      },
      "outputs": [],
      "source": [
        "annual_returns = (((returns.mean() + 1)**250) -1)\n",
        "weights = np.array([0.25,0.25,0.25,0.25])"
      ]
    },
    {
      "cell_type": "code",
      "execution_count": null,
      "metadata": {
        "id": "syEsTe363FKn"
      },
      "outputs": [],
      "source": [
        "pfolio = str(round(np.dot(annual_returns,weights),5)*100) + '%'\n",
        "print(pfolio)"
      ]
    },
    {
      "cell_type": "code",
      "execution_count": null,
      "metadata": {
        "id": "grBMBvNf3FKp"
      },
      "outputs": [],
      "source": [
        "weights_1 = np.array([0.40,0.05,0.40,0.15])\n",
        "pfolio_1 = str(round(np.dot(annual_returns,weights_1),5)*100) + '%'\n",
        "print(pfolio_1)"
      ]
    }
  ],
  "metadata": {
    "kernelspec": {
      "display_name": "Python 3",
      "language": "python",
      "name": "python3"
    },
    "language_info": {
      "codemirror_mode": {
        "name": "ipython",
        "version": 3
      },
      "file_extension": ".py",
      "mimetype": "text/x-python",
      "name": "python",
      "nbconvert_exporter": "python",
      "pygments_lexer": "ipython3",
      "version": "3.6.4"
    },
    "colab": {
      "provenance": []
    }
  },
  "nbformat": 4,
  "nbformat_minor": 0
}